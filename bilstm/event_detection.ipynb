{
 "cells": [
  {
   "cell_type": "markdown",
   "metadata": {},
   "source": [
    "# Event detection"
   ]
  },
  {
   "cell_type": "code",
   "execution_count": 5,
   "metadata": {},
   "outputs": [
    {
     "name": "stdout",
     "output_type": "stream",
     "text": [
      "Generate new embeddings files for a dataset\n",
      "Generate new embeddings files for a dataset\n",
      "Read file: ../HistoGlove.txt\n",
      "Read file: ../HistoGlove.txt\n",
      "Added words: 0\n",
      "Added words: 0\n",
      ":: Transform HistoMention dataset ::\n",
      ":: Transform HistoMention dataset ::\n",
      ":: Create Train Matrix ::\n",
      ":: Create Train Matrix ::\n",
      "Unknown-Tokens: 1.48%\n",
      "Unknown-Tokens: 1.48%\n",
      ":: Create Dev Matrix ::\n",
      ":: Create Dev Matrix ::\n",
      "Unknown-Tokens: 1.39%\n",
      "Unknown-Tokens: 1.39%\n",
      ":: Create Test Matrix ::\n",
      ":: Create Test Matrix ::\n",
      "Unknown-Tokens: 2.17%\n",
      "Unknown-Tokens: 2.17%\n"
     ]
    },
    {
     "ename": "FileNotFoundError",
     "evalue": "[Errno 2] No such file or directory: 'pkl/HistoMention_../HistoGlove.pkl'",
     "output_type": "error",
     "traceback": [
      "\u001b[0;31m---------------------------------------------------------------------------\u001b[0m",
      "\u001b[0;31mFileNotFoundError\u001b[0m                         Traceback (most recent call last)",
      "\u001b[0;32m<ipython-input-5-2b6b5073c518>\u001b[0m in \u001b[0;36m<module>\u001b[0;34m\u001b[0m\n\u001b[1;32m     46\u001b[0m \u001b[0;34m\u001b[0m\u001b[0m\n\u001b[1;32m     47\u001b[0m \u001b[0;31m#Prepares the dataset to be used with the LSTM-network. Creates and stores cPickle files in the pkl/ folder ::\u001b[0m\u001b[0;34m\u001b[0m\u001b[0;34m\u001b[0m\u001b[0;34m\u001b[0m\u001b[0m\n\u001b[0;32m---> 48\u001b[0;31m \u001b[0mpickleFile\u001b[0m \u001b[0;34m=\u001b[0m \u001b[0mperpareDataset\u001b[0m\u001b[0;34m(\u001b[0m\u001b[0membeddingsPath\u001b[0m\u001b[0;34m,\u001b[0m \u001b[0mdatasets\u001b[0m\u001b[0;34m)\u001b[0m\u001b[0;34m\u001b[0m\u001b[0;34m\u001b[0m\u001b[0m\n\u001b[0m\u001b[1;32m     49\u001b[0m \u001b[0;34m\u001b[0m\u001b[0m\n\u001b[1;32m     50\u001b[0m \u001b[0;34m\u001b[0m\u001b[0m\n",
      "\u001b[0;32m~/Desktop/hist-count/bilstm/util/preprocessing.py\u001b[0m in \u001b[0;36mperpareDataset\u001b[0;34m(embeddingsPath, datasets, frequencyThresholdUnknownTokens, reducePretrainedEmbeddings, valTransformations, padOneTokenSentence)\u001b[0m\n\u001b[1;32m     58\u001b[0m \u001b[0;34m\u001b[0m\u001b[0m\n\u001b[1;32m     59\u001b[0m \u001b[0;34m\u001b[0m\u001b[0m\n\u001b[0;32m---> 60\u001b[0;31m     \u001b[0mf\u001b[0m \u001b[0;34m=\u001b[0m \u001b[0mopen\u001b[0m\u001b[0;34m(\u001b[0m\u001b[0moutputPath\u001b[0m\u001b[0;34m,\u001b[0m \u001b[0;34m'wb'\u001b[0m\u001b[0;34m)\u001b[0m\u001b[0;34m\u001b[0m\u001b[0;34m\u001b[0m\u001b[0m\n\u001b[0m\u001b[1;32m     61\u001b[0m     \u001b[0mpkl\u001b[0m\u001b[0;34m.\u001b[0m\u001b[0mdump\u001b[0m\u001b[0;34m(\u001b[0m\u001b[0mpklObjects\u001b[0m\u001b[0;34m,\u001b[0m \u001b[0mf\u001b[0m\u001b[0;34m,\u001b[0m \u001b[0;34m-\u001b[0m\u001b[0;36m1\u001b[0m\u001b[0;34m)\u001b[0m\u001b[0;34m\u001b[0m\u001b[0;34m\u001b[0m\u001b[0m\n\u001b[1;32m     62\u001b[0m     \u001b[0mf\u001b[0m\u001b[0;34m.\u001b[0m\u001b[0mclose\u001b[0m\u001b[0;34m(\u001b[0m\u001b[0;34m)\u001b[0m\u001b[0;34m\u001b[0m\u001b[0;34m\u001b[0m\u001b[0m\n",
      "\u001b[0;31mFileNotFoundError\u001b[0m: [Errno 2] No such file or directory: 'pkl/HistoMention_../HistoGlove.pkl'"
     ]
    }
   ],
   "source": [
    "# This script trains the BiLSTM-CRF architecture for part-of-speech tagging using\n",
    "# the universal dependency dataset (http://universaldependencies.org/).\n",
    "# The code use the embeddings by Komninos et al. (https://www.cs.york.ac.uk/nlp/extvec/)\n",
    "from __future__ import print_function\n",
    "import os\n",
    "import logging\n",
    "import sys\n",
    "from neuralnets.BiLSTM import BiLSTM\n",
    "from util.preprocessing import perpareDataset, loadDatasetPickle\n",
    "\n",
    "'''\n",
    "# :: Change into the working dir of the script ::\n",
    "abspath = os.path.abspath(__file__)\n",
    "dname = os.path.dirname(abspath)\n",
    "os.chdir(dname)\n",
    "'''\n",
    "\n",
    "# :: Logging level ::\n",
    "loggingLevel = logging.INFO\n",
    "logger = logging.getLogger()\n",
    "logger.setLevel(loggingLevel)\n",
    "\n",
    "ch = logging.StreamHandler(sys.stdout)\n",
    "ch.setLevel(loggingLevel)\n",
    "formatter = logging.Formatter('%(message)s')\n",
    "ch.setFormatter(formatter)\n",
    "logger.addHandler(ch)\n",
    "\n",
    "\n",
    "######################################################\n",
    "#\n",
    "# Data preprocessing\n",
    "#\n",
    "######################################################\n",
    "datasets = {\n",
    "    'HistoMention':                                   #Name of the dataset\n",
    "        {'columns': {0:'tokens', 1:'lemma', 2:'POS', 5:'chunk_BIO'},\n",
    "         'label': 'chunk_BIO',                                #Which column we like to predict\n",
    "         'evaluate': True,                                  #Should we evaluate on this task? Set true always for single task setups\n",
    "         'commentSymbol': None} \n",
    "}\n",
    "\n",
    "\n",
    "#Path on your computer to the word embeddings\n",
    "embeddingsPath = '../HistoGlove.txt'\n",
    "\n",
    "#Prepares the dataset to be used with the LSTM-network. Creates and stores cPickle files in the pkl/ folder ::\n",
    "pickleFile = perpareDataset(embeddingsPath, datasets)\n",
    "\n",
    "\n",
    "######################################################\n",
    "#\n",
    "# The training of the network starts here\n",
    "#\n",
    "######################################################\n",
    "\n",
    "\n",
    "#Load the embeddings and the dataset\n",
    "embeddings, mappings, data = loadDatasetPickle(pickleFile)\n",
    "\n",
    "# Some network hyperparameters\n",
    "params = {'classifier': ['Softmax'], 'LSTM-Size': [100], 'dropout': (0.25, 0.25)}\n",
    "\n",
    "model = BiLSTM(params)\n",
    "model.setMappings(mappings, embeddings)\n",
    "model.setDataset(datasets, data)\n",
    "model.storeResults('./unidep_pos_results.csv') #Path to store performance scores for dev / test\n",
    "model.modelSavePath = \"models/[ModelName]_[DevScore]_[TestScore]_[Epoch].h5\" #Path to store models\n",
    "model.fit(epochs=25)"
   ]
  },
  {
   "cell_type": "code",
   "execution_count": null,
   "metadata": {},
   "outputs": [],
   "source": []
  }
 ],
 "metadata": {
  "kernelspec": {
   "display_name": "inforet",
   "language": "python",
   "name": "inforet"
  },
  "language_info": {
   "codemirror_mode": {
    "name": "ipython",
    "version": 3
   },
   "file_extension": ".py",
   "mimetype": "text/x-python",
   "name": "python",
   "nbconvert_exporter": "python",
   "pygments_lexer": "ipython3",
   "version": "3.6.10"
  }
 },
 "nbformat": 4,
 "nbformat_minor": 4
}
