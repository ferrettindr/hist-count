{
 "cells": [
  {
   "cell_type": "code",
   "execution_count": 12,
   "metadata": {},
   "outputs": [],
   "source": [
    "import re\n",
    "\n",
    "with open('./tac/test-data.txt', 'r') as testset:\n",
    "    for line in testset:\n",
    "        match = re.findall('([\\S]*[[0]][\\S]*)', line)\n",
    "        if match != []:\n",
    "            BIO = line.split()[0]\n",
    "            #keep only relevant features\n",
    "            match = match[1:4]\n",
    "            #put token first\n",
    "            match.insert(0, match.pop())\n",
    "            match = [w[w.index('=')+1:] for w in match]\n",
    "            match.append(BIO)\n",
    "            enc = '\\t'.join(match)\n",
    "            with open('./tac/BIO/test.txt', 'a') as dest:\n",
    "                dest.write(enc+'\\n')"
   ]
  }
 ],
 "metadata": {
  "kernelspec": {
   "display_name": "inforet",
   "language": "python",
   "name": "inforet"
  },
  "language_info": {
   "codemirror_mode": {
    "name": "ipython",
    "version": 3
   },
   "file_extension": ".py",
   "mimetype": "text/x-python",
   "name": "python",
   "nbconvert_exporter": "python",
   "pygments_lexer": "ipython3",
   "version": "3.6.10"
  }
 },
 "nbformat": 4,
 "nbformat_minor": 4
}
