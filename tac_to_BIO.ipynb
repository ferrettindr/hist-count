{
 "cells": [
  {
   "cell_type": "code",
   "execution_count": 2,
   "metadata": {},
   "outputs": [],
   "source": [
    "import re\n",
    "\n",
    "source = ['./tac/test-data.txt', './tac/dev-data.txt', './tac/train-data.txt']\n",
    "dest = ['./tac/BIO/test.txt', './tac/BIO/dev.txt', './tac/BIO/train.txt']\n",
    "\n",
    "for f1, f2 in zip(source, dest):\n",
    "    with open(f1, 'r') as dataset:\n",
    "            with open(f2, 'w+') as write_to:\n",
    "                for line in dataset:\n",
    "                    match = re.findall('([\\S]*[[0]][\\S]*)', line)\n",
    "                    if match != []:\n",
    "                        BIO = line.split()[0]\n",
    "                        #keep only relevant features\n",
    "                        match = match[1:4]\n",
    "                        #put token first\n",
    "                        match.insert(0, match.pop())\n",
    "                        match = [w[w.index('=')+1:] for w in match]\n",
    "                        #mimic Histo dataset BIO encoding\n",
    "                        match.append('NONE')\n",
    "                        match.append('NONE')\n",
    "                        match.append(BIO+'_MENTION') if BIO[0] == 'B' or BIO[0] == 'I' else match.append(BIO)\n",
    "                        enc = '\\t'.join(match)\n",
    "                        #add a new line at the end of each sentence\n",
    "                        if match[0] == '.' or match[0] == '!' or match[0] == '?':\n",
    "                            write_to.write(enc+'\\n\\n')\n",
    "                        else:\n",
    "                            write_to.write(enc+'\\n')\n",
    "\n",
    "    "
   ]
  },
  {
   "cell_type": "code",
   "execution_count": null,
   "metadata": {},
   "outputs": [],
   "source": []
  }
 ],
 "metadata": {
  "kernelspec": {
   "display_name": "inforet",
   "language": "python",
   "name": "inforet"
  },
  "language_info": {
   "codemirror_mode": {
    "name": "ipython",
    "version": 3
   },
   "file_extension": ".py",
   "mimetype": "text/x-python",
   "name": "python",
   "nbconvert_exporter": "python",
   "pygments_lexer": "ipython3",
   "version": "3.6.10"
  }
 },
 "nbformat": 4,
 "nbformat_minor": 4
}
